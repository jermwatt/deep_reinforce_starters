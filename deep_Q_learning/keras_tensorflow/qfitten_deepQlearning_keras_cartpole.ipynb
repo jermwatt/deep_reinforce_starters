{
 "cells": [
  {
   "cell_type": "markdown",
   "metadata": {},
   "source": [
    "# Q-Learner for cartpole"
   ]
  },
  {
   "cell_type": "markdown",
   "metadata": {
    "collapsed": false
   },
   "source": [
    "- Q-Learning algo written in Keras for the cartpole\n",
    "\n",
    "- Batch version used here, Q function updated after each episode of simulation"
   ]
  },
  {
   "cell_type": "code",
   "execution_count": 1,
   "metadata": {
    "collapsed": false
   },
   "outputs": [
    {
     "name": "stderr",
     "output_type": "stream",
     "text": [
      "Using TensorFlow backend.\n"
     ]
    }
   ],
   "source": [
    "# imports\n",
    "import os \n",
    "import sys\n",
    "sys.path.append('../../')\n",
    "\n",
    "# import custom reinforcement library\n",
    "import reinforcement_library as reinlib\n",
    "\n",
    "# import cartpole + pytorch online q-learner\n",
    "learner = reinlib.deep_Q_Learning.qfitted_deepQlearning_keras\n",
    "plotter = reinlib.deep_Q_Learning.history_plotter\n",
    "\n",
    "# load in autoreload so any changes made to backend files mirrored in notebook\n",
    "# without the need to restart kernel\n",
    "%load_ext autoreload\n",
    "%autoreload 2"
   ]
  },
  {
   "cell_type": "markdown",
   "metadata": {},
   "source": [
    "- Q-Learner Algo can be loaded in from backend file by activating the command\n",
    "\n",
    "```learner.QLearner??```\n",
    "\n",
    "in a code cell"
   ]
  },
  {
   "cell_type": "markdown",
   "metadata": {},
   "source": [
    "## Q Learning setup interface"
   ]
  },
  {
   "cell_type": "code",
   "execution_count": 19,
   "metadata": {
    "collapsed": false
   },
   "outputs": [
    {
     "name": "stdout",
     "output_type": "stream",
     "text": [
      "\u001b[33mWARN: gym.spaces.Box autodetected dtype as <class 'numpy.float32'>. Please provide explicit dtype.\u001b[0m\n"
     ]
    }
   ],
   "source": [
    "# feed in current directory name and savename = experiment name\n",
    "dirname = os.getcwd()\n",
    "savename = 'qfitted_cartpole_experiment_1'\n",
    "gymname = 'CartPole-v1'\n",
    "\n",
    "# initialize Q Learn process\n",
    "num_episodes = 500\n",
    "explore_decay = 1\n",
    "explore_val = 0.01\n",
    "exit_level = 300\n",
    "exit_window = 100\n",
    "\n",
    "# initialize memory\n",
    "episode_update = 1\n",
    "memory_length = 2\n",
    "\n",
    "# load into instance of learner\n",
    "demo = learner.QLearner(gymname,dirname,savename,num_episodes=num_episodes,explore_decay=explore_decay,explore_val=explore_val,memory_length=memory_length,episode_update=episode_update,exit_level=exit_level,exit_window=exit_window)\n",
    "\n",
    "# initialize Q function\n",
    "layer_sizes = [50,50]\n",
    "alpha = 10**(-2)\n",
    "activation = 'relu'\n",
    "demo.initialize_Q(layer_sizes=layer_sizes,alpha=alpha,activation=activation)"
   ]
  },
  {
   "cell_type": "code",
   "execution_count": 20,
   "metadata": {
    "collapsed": false
   },
   "outputs": [
    {
     "name": "stdout",
     "output_type": "stream",
     "text": [
      "episode 1 of 500 complete,  explore val = 0.01, episode reward = 14.0, ave reward = 0.0\n",
      "episode 2 of 500 complete,  explore val = 0.01, episode reward = 9.0, ave reward = 0.1\n",
      "episode 3 of 500 complete,  explore val = 0.01, episode reward = 50.0, ave reward = 0.2\n",
      "episode 4 of 500 complete,  explore val = 0.01, episode reward = 24.0, ave reward = 0.7\n",
      "episode 5 of 500 complete,  explore val = 0.01, episode reward = 50.0, ave reward = 1.0\n",
      "episode 6 of 500 complete,  explore val = 0.01, episode reward = 31.0, ave reward = 1.5\n",
      "episode 7 of 500 complete,  explore val = 0.01, episode reward = 61.0, ave reward = 1.8\n",
      "episode 8 of 500 complete,  explore val = 0.01, episode reward = 49.0, ave reward = 2.4\n",
      "episode 9 of 500 complete,  explore val = 0.01, episode reward = 63.0, ave reward = 2.9\n",
      "episode 10 of 500 complete,  explore val = 0.01, episode reward = 70.0, ave reward = 3.5\n",
      "episode 11 of 500 complete,  explore val = 0.01, episode reward = 51.0, ave reward = 4.2\n",
      "episode 12 of 500 complete,  explore val = 0.01, episode reward = 26.0, ave reward = 4.7\n",
      "episode 13 of 500 complete,  explore val = 0.01, episode reward = 9.0, ave reward = 5.0\n",
      "episode 14 of 500 complete,  explore val = 0.01, episode reward = 19.0, ave reward = 5.1\n",
      "episode 15 of 500 complete,  explore val = 0.01, episode reward = 14.0, ave reward = 5.3\n",
      "episode 16 of 500 complete,  explore val = 0.01, episode reward = 9.0, ave reward = 5.4\n",
      "episode 17 of 500 complete,  explore val = 0.01, episode reward = 10.0, ave reward = 5.5\n",
      "episode 18 of 500 complete,  explore val = 0.01, episode reward = 66.0, ave reward = 5.6\n",
      "episode 19 of 500 complete,  explore val = 0.01, episode reward = 57.0, ave reward = 6.2\n",
      "episode 20 of 500 complete,  explore val = 0.01, episode reward = 57.0, ave reward = 6.8\n",
      "episode 21 of 500 complete,  explore val = 0.01, episode reward = 34.0, ave reward = 7.4\n",
      "episode 22 of 500 complete,  explore val = 0.01, episode reward = 30.0, ave reward = 7.7\n",
      "episode 23 of 500 complete,  explore val = 0.01, episode reward = 20.0, ave reward = 8.0\n",
      "episode 24 of 500 complete,  explore val = 0.01, episode reward = 8.0, ave reward = 8.2\n",
      "episode 25 of 500 complete,  explore val = 0.01, episode reward = 22.0, ave reward = 8.3\n",
      "episode 26 of 500 complete,  explore val = 0.01, episode reward = 24.0, ave reward = 8.5\n",
      "episode 27 of 500 complete,  explore val = 0.01, episode reward = 23.0, ave reward = 8.8\n",
      "episode 28 of 500 complete,  explore val = 0.01, episode reward = 55.0, ave reward = 9.0\n",
      "episode 29 of 500 complete,  explore val = 0.01, episode reward = 18.0, ave reward = 9.6\n",
      "episode 30 of 500 complete,  explore val = 0.01, episode reward = 10.0, ave reward = 9.7\n",
      "episode 31 of 500 complete,  explore val = 0.01, episode reward = 25.0, ave reward = 9.8\n",
      "episode 32 of 500 complete,  explore val = 0.01, episode reward = 19.0, ave reward = 10.1\n",
      "episode 33 of 500 complete,  explore val = 0.01, episode reward = 72.0, ave reward = 10.3\n",
      "episode 34 of 500 complete,  explore val = 0.01, episode reward = 25.0, ave reward = 11.0\n",
      "episode 35 of 500 complete,  explore val = 0.01, episode reward = 16.0, ave reward = 11.2\n",
      "episode 36 of 500 complete,  explore val = 0.01, episode reward = 11.0, ave reward = 11.4\n",
      "episode 37 of 500 complete,  explore val = 0.01, episode reward = 15.0, ave reward = 11.5\n",
      "episode 38 of 500 complete,  explore val = 0.01, episode reward = 214.0, ave reward = 11.7\n",
      "episode 39 of 500 complete,  explore val = 0.01, episode reward = 70.0, ave reward = 13.8\n",
      "episode 40 of 500 complete,  explore val = 0.01, episode reward = 47.0, ave reward = 14.5\n",
      "episode 41 of 500 complete,  explore val = 0.01, episode reward = 48.0, ave reward = 15.0\n",
      "episode 42 of 500 complete,  explore val = 0.01, episode reward = 38.0, ave reward = 15.4\n",
      "episode 43 of 500 complete,  explore val = 0.01, episode reward = 33.0, ave reward = 15.8\n",
      "episode 44 of 500 complete,  explore val = 0.01, episode reward = 44.0, ave reward = 16.2\n",
      "episode 45 of 500 complete,  explore val = 0.01, episode reward = 73.0, ave reward = 16.6\n",
      "episode 46 of 500 complete,  explore val = 0.01, episode reward = 22.0, ave reward = 17.3\n",
      "episode 47 of 500 complete,  explore val = 0.01, episode reward = 23.0, ave reward = 17.6\n",
      "episode 48 of 500 complete,  explore val = 0.01, episode reward = 57.0, ave reward = 17.8\n",
      "episode 49 of 500 complete,  explore val = 0.01, episode reward = 48.0, ave reward = 18.4\n",
      "episode 50 of 500 complete,  explore val = 0.01, episode reward = 33.0, ave reward = 18.8\n",
      "episode 51 of 500 complete,  explore val = 0.01, episode reward = 142.0, ave reward = 19.2\n",
      "episode 52 of 500 complete,  explore val = 0.01, episode reward = 76.0, ave reward = 20.6\n",
      "episode 53 of 500 complete,  explore val = 0.01, episode reward = 388.0, ave reward = 21.3\n",
      "episode 54 of 500 complete,  explore val = 0.01, episode reward = 56.0, ave reward = 25.2\n",
      "episode 55 of 500 complete,  explore val = 0.01, episode reward = 42.0, ave reward = 25.8\n",
      "episode 56 of 500 complete,  explore val = 0.01, episode reward = 36.0, ave reward = 26.2\n",
      "episode 57 of 500 complete,  explore val = 0.01, episode reward = 51.0, ave reward = 26.6\n",
      "episode 58 of 500 complete,  explore val = 0.01, episode reward = 167.0, ave reward = 27.1\n",
      "episode 59 of 500 complete,  explore val = 0.01, episode reward = 65.0, ave reward = 28.7\n",
      "episode 60 of 500 complete,  explore val = 0.01, episode reward = 41.0, ave reward = 29.4\n",
      "episode 61 of 500 complete,  explore val = 0.01, episode reward = 38.0, ave reward = 29.8\n",
      "episode 62 of 500 complete,  explore val = 0.01, episode reward = 46.0, ave reward = 30.2\n",
      "episode 63 of 500 complete,  explore val = 0.01, episode reward = 44.0, ave reward = 30.6\n",
      "episode 64 of 500 complete,  explore val = 0.01, episode reward = 267.0, ave reward = 31.1\n",
      "episode 65 of 500 complete,  explore val = 0.01, episode reward = 32.0, ave reward = 33.8\n",
      "episode 66 of 500 complete,  explore val = 0.01, episode reward = 32.0, ave reward = 34.1\n",
      "episode 67 of 500 complete,  explore val = 0.01, episode reward = 22.0, ave reward = 34.4\n",
      "episode 68 of 500 complete,  explore val = 0.01, episode reward = 218.0, ave reward = 34.6\n",
      "episode 69 of 500 complete,  explore val = 0.01, episode reward = 144.0, ave reward = 36.8\n",
      "episode 70 of 500 complete,  explore val = 0.01, episode reward = 59.0, ave reward = 38.2\n",
      "episode 71 of 500 complete,  explore val = 0.01, episode reward = 375.0, ave reward = 38.8\n",
      "episode 72 of 500 complete,  explore val = 0.01, episode reward = 86.0, ave reward = 42.6\n",
      "episode 73 of 500 complete,  explore val = 0.01, episode reward = 253.0, ave reward = 43.4\n",
      "episode 74 of 500 complete,  explore val = 0.01, episode reward = 92.0, ave reward = 46.0\n",
      "episode 75 of 500 complete,  explore val = 0.01, episode reward = 50.0, ave reward = 46.9\n",
      "episode 76 of 500 complete,  explore val = 0.01, episode reward = 58.0, ave reward = 47.4\n",
      "episode 77 of 500 complete,  explore val = 0.01, episode reward = 83.0, ave reward = 48.0\n",
      "episode 78 of 500 complete,  explore val = 0.01, episode reward = 164.0, ave reward = 48.8\n",
      "episode 79 of 500 complete,  explore val = 0.01, episode reward = 179.0, ave reward = 50.4\n",
      "episode 80 of 500 complete,  explore val = 0.01, episode reward = 232.0, ave reward = 52.2\n",
      "episode 81 of 500 complete,  explore val = 0.01, episode reward = 76.0, ave reward = 54.5\n",
      "episode 82 of 500 complete,  explore val = 0.01, episode reward = 104.0, ave reward = 55.3\n",
      "episode 83 of 500 complete,  explore val = 0.01, episode reward = 500.0, ave reward = 56.3\n",
      "episode 84 of 500 complete,  explore val = 0.01, episode reward = 110.0, ave reward = 61.3\n",
      "episode 85 of 500 complete,  explore val = 0.01, episode reward = 74.0, ave reward = 62.4\n",
      "episode 86 of 500 complete,  explore val = 0.01, episode reward = 134.0, ave reward = 63.2\n",
      "episode 87 of 500 complete,  explore val = 0.01, episode reward = 71.0, ave reward = 64.5\n",
      "episode 88 of 500 complete,  explore val = 0.01, episode reward = 65.0, ave reward = 65.2\n",
      "episode 89 of 500 complete,  explore val = 0.01, episode reward = 45.0, ave reward = 65.9\n",
      "episode 90 of 500 complete,  explore val = 0.01, episode reward = 25.0, ave reward = 66.3\n",
      "episode 91 of 500 complete,  explore val = 0.01, episode reward = 52.0, ave reward = 66.6\n",
      "episode 92 of 500 complete,  explore val = 0.01, episode reward = 64.0, ave reward = 67.1\n",
      "episode 93 of 500 complete,  explore val = 0.01, episode reward = 72.0, ave reward = 67.7\n",
      "episode 94 of 500 complete,  explore val = 0.01, episode reward = 41.0, ave reward = 68.5\n",
      "episode 95 of 500 complete,  explore val = 0.01, episode reward = 340.0, ave reward = 68.9\n",
      "episode 96 of 500 complete,  explore val = 0.01, episode reward = 500.0, ave reward = 72.3\n",
      "episode 97 of 500 complete,  explore val = 0.01, episode reward = 94.0, ave reward = 77.3\n",
      "episode 98 of 500 complete,  explore val = 0.01, episode reward = 500.0, ave reward = 78.2\n",
      "episode 99 of 500 complete,  explore val = 0.01, episode reward = 57.0, ave reward = 83.2\n",
      "episode 100 of 500 complete,  explore val = 0.01, episode reward = 73.0, ave reward = 83.8\n",
      "episode 101 of 500 complete,  explore val = 0.01, episode reward = 353.0, ave reward = 84.5\n",
      "episode 102 of 500 complete,  explore val = 0.01, episode reward = 207.0, ave reward = 87.9\n",
      "episode 103 of 500 complete,  explore val = 0.01, episode reward = 500.0, ave reward = 89.9\n",
      "episode 104 of 500 complete,  explore val = 0.01, episode reward = 500.0, ave reward = 94.4\n",
      "episode 105 of 500 complete,  explore val = 0.01, episode reward = 500.0, ave reward = 99.1\n",
      "episode 106 of 500 complete,  explore val = 0.01, episode reward = 500.0, ave reward = 103.6\n",
      "episode 107 of 500 complete,  explore val = 0.01, episode reward = 500.0, ave reward = 108.3\n",
      "episode 108 of 500 complete,  explore val = 0.01, episode reward = 131.0, ave reward = 112.7\n",
      "episode 109 of 500 complete,  explore val = 0.01, episode reward = 128.0, ave reward = 113.5\n",
      "episode 110 of 500 complete,  explore val = 0.01, episode reward = 500.0, ave reward = 114.2\n",
      "episode 111 of 500 complete,  explore val = 0.01, episode reward = 141.0, ave reward = 118.5\n",
      "episode 112 of 500 complete,  explore val = 0.01, episode reward = 500.0, ave reward = 119.4\n",
      "episode 113 of 500 complete,  explore val = 0.01, episode reward = 496.0, ave reward = 124.1\n",
      "episode 114 of 500 complete,  explore val = 0.01, episode reward = 103.0, ave reward = 129.0\n",
      "episode 115 of 500 complete,  explore val = 0.01, episode reward = 96.0, ave reward = 129.8\n",
      "episode 116 of 500 complete,  explore val = 0.01, episode reward = 500.0, ave reward = 130.7\n",
      "episode 117 of 500 complete,  explore val = 0.01, episode reward = 53.0, ave reward = 135.6\n",
      "episode 118 of 500 complete,  explore val = 0.01, episode reward = 57.0, ave reward = 136.0\n",
      "episode 119 of 500 complete,  explore val = 0.01, episode reward = 281.0, ave reward = 135.9\n",
      "episode 120 of 500 complete,  explore val = 0.01, episode reward = 500.0, ave reward = 138.2\n",
      "episode 121 of 500 complete,  explore val = 0.01, episode reward = 500.0, ave reward = 142.6\n",
      "episode 122 of 500 complete,  explore val = 0.01, episode reward = 89.0, ave reward = 147.2\n",
      "episode 123 of 500 complete,  explore val = 0.01, episode reward = 102.0, ave reward = 147.8\n",
      "episode 124 of 500 complete,  explore val = 0.01, episode reward = 70.0, ave reward = 148.6\n",
      "episode 125 of 500 complete,  explore val = 0.01, episode reward = 81.0, ave reward = 149.3\n",
      "episode 126 of 500 complete,  explore val = 0.01, episode reward = 56.0, ave reward = 149.9\n",
      "episode 127 of 500 complete,  explore val = 0.01, episode reward = 38.0, ave reward = 150.2\n",
      "episode 128 of 500 complete,  explore val = 0.01, episode reward = 36.0, ave reward = 150.3\n",
      "episode 129 of 500 complete,  explore val = 0.01, episode reward = 374.0, ave reward = 150.1\n",
      "episode 130 of 500 complete,  explore val = 0.01, episode reward = 131.0, ave reward = 153.7\n",
      "episode 131 of 500 complete,  explore val = 0.01, episode reward = 431.0, ave reward = 154.9\n",
      "episode 132 of 500 complete,  explore val = 0.01, episode reward = 155.0, ave reward = 159.0\n",
      "episode 133 of 500 complete,  explore val = 0.01, episode reward = 500.0, ave reward = 160.3\n",
      "episode 134 of 500 complete,  explore val = 0.01, episode reward = 483.0, ave reward = 164.6\n",
      "episode 135 of 500 complete,  explore val = 0.01, episode reward = 500.0, ave reward = 169.2\n",
      "episode 136 of 500 complete,  explore val = 0.01, episode reward = 403.0, ave reward = 174.0\n",
      "episode 137 of 500 complete,  explore val = 0.01, episode reward = 418.0, ave reward = 178.0\n",
      "episode 138 of 500 complete,  explore val = 0.01, episode reward = 415.0, ave reward = 182.0\n",
      "episode 139 of 500 complete,  explore val = 0.01, episode reward = 500.0, ave reward = 184.0\n",
      "episode 140 of 500 complete,  explore val = 0.01, episode reward = 500.0, ave reward = 188.3\n",
      "episode 141 of 500 complete,  explore val = 0.01, episode reward = 500.0, ave reward = 192.8\n",
      "episode 142 of 500 complete,  explore val = 0.01, episode reward = 500.0, ave reward = 197.3\n",
      "episode 143 of 500 complete,  explore val = 0.01, episode reward = 500.0, ave reward = 202.0\n",
      "episode 144 of 500 complete,  explore val = 0.01, episode reward = 500.0, ave reward = 206.6\n",
      "episode 145 of 500 complete,  explore val = 0.01, episode reward = 304.0, ave reward = 211.2\n",
      "episode 146 of 500 complete,  explore val = 0.01, episode reward = 500.0, ave reward = 213.5\n",
      "episode 147 of 500 complete,  explore val = 0.01, episode reward = 356.0, ave reward = 218.3\n",
      "episode 148 of 500 complete,  explore val = 0.01, episode reward = 500.0, ave reward = 221.6\n",
      "episode 149 of 500 complete,  explore val = 0.01, episode reward = 500.0, ave reward = 226.0\n",
      "episode 150 of 500 complete,  explore val = 0.01, episode reward = 500.0, ave reward = 230.6\n",
      "episode 151 of 500 complete,  explore val = 0.01, episode reward = 500.0, ave reward = 235.2\n",
      "episode 152 of 500 complete,  explore val = 0.01, episode reward = 500.0, ave reward = 238.8\n",
      "episode 153 of 500 complete,  explore val = 0.01, episode reward = 500.0, ave reward = 243.0\n",
      "episode 154 of 500 complete,  explore val = 0.01, episode reward = 500.0, ave reward = 244.2\n",
      "episode 155 of 500 complete,  explore val = 0.01, episode reward = 500.0, ave reward = 248.6\n",
      "episode 156 of 500 complete,  explore val = 0.01, episode reward = 500.0, ave reward = 253.2\n",
      "episode 157 of 500 complete,  explore val = 0.01, episode reward = 500.0, ave reward = 257.8\n",
      "episode 158 of 500 complete,  explore val = 0.01, episode reward = 500.0, ave reward = 262.3\n",
      "episode 159 of 500 complete,  explore val = 0.01, episode reward = 500.0, ave reward = 265.6\n",
      "episode 160 of 500 complete,  explore val = 0.01, episode reward = 500.0, ave reward = 270.0\n",
      "episode 161 of 500 complete,  explore val = 0.01, episode reward = 500.0, ave reward = 274.6\n",
      "episode 162 of 500 complete,  explore val = 0.01, episode reward = 500.0, ave reward = 279.2\n",
      "episode 163 of 500 complete,  explore val = 0.01, episode reward = 500.0, ave reward = 283.8\n",
      "episode 164 of 500 complete,  explore val = 0.01, episode reward = 131.0, ave reward = 288.3\n",
      "episode 165 of 500 complete,  explore val = 0.01, episode reward = 118.0, ave reward = 287.0\n",
      "episode 166 of 500 complete,  explore val = 0.01, episode reward = 500.0, ave reward = 287.8\n",
      "episode 167 of 500 complete,  explore val = 0.01, episode reward = 500.0, ave reward = 292.5\n",
      "episode 168 of 500 complete,  explore val = 0.01, episode reward = 500.0, ave reward = 297.3\n",
      "episode 169 of 500 complete,  explore val = 0.01, episode reward = 500.0, ave reward = 300.1\n",
      "q-learning algorithm complete\n"
     ]
    }
   ],
   "source": [
    "demo.train()"
   ]
  },
  {
   "cell_type": "markdown",
   "metadata": {},
   "source": [
    "# plot total episode reward history"
   ]
  },
  {
   "cell_type": "code",
   "execution_count": 22,
   "metadata": {
    "collapsed": false
   },
   "outputs": [
    {
     "data": {
      "image/png": "[encoded data removed]",
      "text/plain": [
       "<matplotlib.figure.Figure at 0x7f3697da74a8>"
      ]
     },
     "metadata": {},
     "output_type": "display_data"
    }
   ],
   "source": [
    "reward_logname = 'reward_logs/' + savename + '.txt'\n",
    "plotter.plot_reward_history(reward_logname,window_length = exit_window)"
   ]
  },
  {
   "cell_type": "code",
   "execution_count": null,
   "metadata": {
    "collapsed": true
   },
   "outputs": [],
   "source": []
  }
 ],
 "metadata": {
  "kernelspec": {
   "display_name": "Python 3",
   "language": "python",
   "name": "python3"
  },
  "language_info": {
   "codemirror_mode": {
    "name": "ipython",
    "version": 3
   },
   "file_extension": ".py",
   "mimetype": "text/x-python",
   "name": "python",
   "nbconvert_exporter": "python",
   "pygments_lexer": "ipython3",
   "version": "3.5.2"
  }
 },
 "nbformat": 4,
 "nbformat_minor": 1
}
